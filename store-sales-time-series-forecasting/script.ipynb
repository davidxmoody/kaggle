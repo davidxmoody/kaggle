{
  "cells": [
    {
      "cell_type": "raw",
      "metadata": {},
      "source": [
        "---\n",
        "title: Kaggle Store Sales Forecasting\n",
        "format:\n",
        "  html:\n",
        "    toc: true\n",
        "    code-fold: true\n",
        "highlight-style: github\n",
        "---"
      ],
      "id": "7ab8158d"
    },
    {
      "cell_type": "markdown",
      "metadata": {},
      "source": [
        "## Imports and data"
      ],
      "id": "41377ead"
    },
    {
      "cell_type": "code",
      "metadata": {},
      "source": [
        "from datetime import timedelta\n",
        "\n",
        "import pandas as pd\n",
        "import plotly.express as px\n",
        "from plotly_calplot import calplot\n",
        "from statsmodels.tsa.seasonal import seasonal_decompose"
      ],
      "id": "e0a58534",
      "execution_count": null,
      "outputs": []
    },
    {
      "cell_type": "code",
      "metadata": {},
      "source": [
        "train = pd.read_csv(\"data/train.csv\", index_col=\"id\", parse_dates=[\"date\"])\n",
        "test = pd.read_csv(\"data/test.csv\", index_col=\"id\", parse_dates=[\"date\"])\n",
        "\n",
        "train.tail(3)"
      ],
      "id": "37b6837e",
      "execution_count": null,
      "outputs": []
    },
    {
      "cell_type": "markdown",
      "metadata": {},
      "source": [
        "## Sales by family\n",
        "\n",
        "Most product families seem mostly stable. Here are some points of interest:\n",
        "\n",
        "- `PRODUCE`, `BEVERAGES` and a few other families have multiple significant drops to near zero before June 2015. This looks like it could be an error in the data or possibly some significant region-wide event.\n",
        "- `SCHOOL AND OFFICE SUPPLIES` shows various spikes, likely around school term times.\n",
        "- `BOOKS` is at zero until around Oct 2016 when it spikes up. It's likely that it wasn't counted as a separate product family until then. `MAGAZINES` also jumps up around Oct 2015 so maybe that was counted in a different way before that.\n",
        "- `FROZEN FOODS`, `GROCERY I`, `LIQUOR,WINE,BEER` and some other families show spikes around Christmas."
      ],
      "id": "b9956fba"
    },
    {
      "cell_type": "code",
      "metadata": {},
      "source": [
        "monthly_sales = (\n",
        "    train.groupby(\"family\").resample(\"MS\", on=\"date\").sales_norm.sum().reset_index()\n",
        ")\n",
        "\n",
        "fig = px.line(monthly_sales, x=\"date\", y=\"sales_norm\", color=\"family\")\n",
        "fig.update_layout(title=\"Monthly sales by family\")\n",
        "fig.update_yaxes(range=[0, None])\n",
        "fig.update_xaxes(range=[monthly_sales.date.min(), monthly_sales.date.max()])\n",
        "fig.show()"
      ],
      "id": "7c95d7a8",
      "execution_count": null,
      "outputs": []
    },
    {
      "cell_type": "code",
      "metadata": {},
      "source": [
        "produce_sales = (\n",
        "    train.loc[train.family == \"PRODUCE\"]\n",
        "    .groupby(\"store_nbr\")\n",
        "    .resample(\"W\", on=\"date\")[[\"sales\"]]\n",
        "    .sum()\n",
        "    .reset_index()\n",
        ")\n",
        "\n",
        "fig = px.line(produce_sales, x=\"date\", y=\"sales\", color=\"store_nbr\")\n",
        "fig.update_layout(title=\"Produce sales by store\")\n",
        "fig.update_yaxes(range=[0, None])\n",
        "fig.show()"
      ],
      "id": "4b869e31",
      "execution_count": null,
      "outputs": []
    },
    {
      "cell_type": "markdown",
      "metadata": {},
      "source": [
        "## Oil data"
      ],
      "id": "57326e4c"
    },
    {
      "cell_type": "code",
      "metadata": {},
      "source": [
        "oil = pd.read_csv(\"data/oil.csv\", index_col=\"date\", parse_dates=[\"date\"])\n",
        "\n",
        "oil = oil.rename(columns={\"dcoilwtico\": \"oil\"})\n",
        "\n",
        "oil = oil.ffill().bfill()\n",
        "\n",
        "oil.tail(3)"
      ],
      "id": "c7ffab31",
      "execution_count": null,
      "outputs": []
    },
    {
      "cell_type": "code",
      "metadata": {},
      "source": [
        "fig = px.line(oil, y=\"oil\")\n",
        "fig.update_yaxes(range=[0, None])\n",
        "fig.update_xaxes(title=\"date\")\n",
        "fig.update_layout(title=\"Oil prices\")\n",
        "fig.show()"
      ],
      "id": "a5373d42",
      "execution_count": null,
      "outputs": []
    },
    {
      "cell_type": "code",
      "metadata": {},
      "source": [
        "fig = px.scatter(\n",
        "    train.groupby([\"family\", \"date\"])\n",
        "    .sales.sum()\n",
        "    .reset_index()\n",
        "    .merge(oil, left_on=\"date\", right_index=True, how=\"left\"),\n",
        "    x=\"oil\",\n",
        "    y=\"sales\",\n",
        "    color=\"family\",\n",
        "    trendline=\"ols\",\n",
        ")\n",
        "fig.update_yaxes(range=[0, None])\n",
        "fig.update_layout(title=\"Sales vs oil\")\n",
        "fig.show()"
      ],
      "id": "25ac4cb1",
      "execution_count": null,
      "outputs": []
    },
    {
      "cell_type": "markdown",
      "metadata": {},
      "source": [
        "## Holiday data"
      ],
      "id": "9809e4f6"
    },
    {
      "cell_type": "code",
      "metadata": {},
      "source": [
        "holidays = pd.read_csv(\"data/holidays_events.csv\", parse_dates=[\"date\"])\n",
        "\n",
        "holidays.tail(3)"
      ],
      "id": "2ad85d15",
      "execution_count": null,
      "outputs": []
    },
    {
      "cell_type": "markdown",
      "metadata": {},
      "source": [
        "To simplify this, just use a single boolean for if a national holiday was present (after accounting for transfers).\n",
        "\n",
        "Note that the month-long block starting April 2016 was due to the earthquake."
      ],
      "id": "71799b4f"
    },
    {
      "cell_type": "code",
      "metadata": {},
      "source": [
        "holiday_dates = holidays.loc[\n",
        "    (holidays.transferred == False) & (holidays.locale == \"National\")\n",
        "].date\n",
        "\n",
        "fig = calplot(\n",
        "    pd.DataFrame({\"holiday\": 1, \"date\": holiday_dates}).query(\"date >= '2013'\"),\n",
        "    x=\"date\",\n",
        "    y=\"holiday\",\n",
        "    cmap_min=0,\n",
        "    cmap_max=1.5,\n",
        "    years_title=True,\n",
        ")\n",
        "fig.show()"
      ],
      "id": "e29cb2cb",
      "execution_count": null,
      "outputs": []
    },
    {
      "cell_type": "markdown",
      "metadata": {},
      "source": [
        "## Store data"
      ],
      "id": "3fbdf954"
    },
    {
      "cell_type": "code",
      "metadata": {},
      "source": [
        "stores = pd.read_csv(\"data/stores.csv\", index_col=\"store_nbr\")\n",
        "\n",
        "stores.tail(3)"
      ],
      "id": "39f01c81",
      "execution_count": null,
      "outputs": []
    },
    {
      "cell_type": "markdown",
      "metadata": {},
      "source": [
        "## Transaction data\n",
        "\n",
        "- There are very consistent peaks around Christmas\n",
        "- The total number of transactions slowly rises over time\n",
        "- Some stores have zero transactions for brief periods (e.g. store_nbr 24)\n",
        "- Some stores only start having data mid-way through the period (e.g. store_nbr 52)\n",
        "- No transaction data is given for the test data period"
      ],
      "id": "99a93a6a"
    },
    {
      "cell_type": "code",
      "metadata": {},
      "source": [
        "transactions = pd.read_csv(\"data/transactions.csv\", parse_dates=[\"date\"])\n",
        "\n",
        "monthly_transactions = (\n",
        "    transactions.groupby(\"store_nbr\")\n",
        "    .resample(\"MS\", on=\"date\")\n",
        "    .transactions.sum()\n",
        "    .reset_index()\n",
        ")\n",
        "\n",
        "fig = px.line(monthly_transactions, x=\"date\", y=\"transactions\", color=\"store_nbr\")\n",
        "fig.update_yaxes(range=[0, None])\n",
        "fig.update_xaxes(range=[train.date.min(), test.date.max()])\n",
        "fig.show()"
      ],
      "id": "5464229a",
      "execution_count": null,
      "outputs": []
    },
    {
      "cell_type": "markdown",
      "metadata": {},
      "source": [
        "## Seasonality"
      ],
      "id": "37770a2b"
    },
    {
      "cell_type": "code",
      "metadata": {},
      "source": [
        "sd = seasonal_decompose(\n",
        "    train.resample(\"W\", on=\"date\").sales.sum(), period=52, model=\"multiplicative\"\n",
        ")\n",
        "sd.plot()\n",
        "pass"
      ],
      "id": "08ce2258",
      "execution_count": null,
      "outputs": []
    },
    {
      "cell_type": "markdown",
      "metadata": {},
      "source": [
        "## On promotion"
      ],
      "id": "8a2bf5d7"
    },
    {
      "cell_type": "code",
      "metadata": {},
      "source": [
        "fig = px.bar(\n",
        "    train.groupby(\"family\").onpromotion.sum().reset_index(), x=\"family\", y=\"onpromotion\"\n",
        ")\n",
        "fig.show()"
      ],
      "id": "331995ff",
      "execution_count": null,
      "outputs": []
    },
    {
      "cell_type": "markdown",
      "metadata": {},
      "source": [
        "## Features"
      ],
      "id": "6d4e59d7"
    },
    {
      "cell_type": "code",
      "metadata": {},
      "source": [
        "train[\"days_since_start\"] = (train.date - train.date[0]).dt.days\n",
        "# train[\"year\"] = train.date.dt.year\n",
        "train[\"month\"] = train.date.dt.month\n",
        "# train[\"day\"] = train.date.dt.day\n",
        "train[\"dayofweek\"] = train.date.dt.dayofweek\n",
        "train = train.merge(oil, left_on=\"date\", right_index=True, how=\"left\")\n",
        "train = train.merge(\n",
        "    stores.add_prefix(\"store_\"), left_on=\"store_nbr\", right_index=True, how=\"left\"\n",
        ")\n",
        "train[\"holiday\"] = train.date.isin(holiday_dates.values)\n",
        "\n",
        "train[\"mean_sales\"] = train.groupby([\"store_nbr\", \"family\"]).sales.transform(\"mean\")\n",
        "\n",
        "train[\"recent_sales\"] = train.groupby([\"store_nbr\", \"family\"]).sales.transform(\n",
        "    lambda x: x.rolling(window=30).mean().shift(15)\n",
        ")"
      ],
      "id": "b07eafa1",
      "execution_count": null,
      "outputs": []
    },
    {
      "cell_type": "code",
      "metadata": {},
      "source": [
        "train_subset = train.dropna()\n",
        "\n",
        "train_dummies = pd.get_dummies(\n",
        "    train_subset,\n",
        "    columns=[\n",
        "        \"family\",\n",
        "        \"dayofweek\",\n",
        "        # \"month\",\n",
        "        # \"store_cluster\",\n",
        "        # \"store_type\",\n",
        "    ],\n",
        ").drop(\n",
        "    columns=[\n",
        "        # \"family\",\n",
        "        \"month\",\n",
        "        \"date\",\n",
        "        \"store_nbr\",\n",
        "        \"store_city\",\n",
        "        \"store_state\",\n",
        "        \"store_cluster\",\n",
        "        \"store_type\",\n",
        "    ]\n",
        ")"
      ],
      "id": "32888776",
      "execution_count": null,
      "outputs": []
    },
    {
      "cell_type": "code",
      "metadata": {},
      "source": [
        "test_selector = train_subset.date >= (train_subset.date.iloc[-1] - timedelta(days=15))\n",
        "\n",
        "tmp_train = train_dummies.loc[~test_selector]\n",
        "tmp_test = train_dummies.loc[test_selector]\n",
        "\n",
        "y_train = tmp_train.sales\n",
        "y_test = tmp_test.sales\n",
        "\n",
        "X_train = tmp_train.drop(columns=[\"sales\"]).astype(float)\n",
        "X_test = tmp_test.drop(columns=[\"sales\"]).astype(float)"
      ],
      "id": "1c5e7f59",
      "execution_count": null,
      "outputs": []
    },
    {
      "cell_type": "code",
      "metadata": {},
      "source": [
        "# num_features = len(X_train.columns)\n",
        "#\n",
        "# model = models.Sequential(\n",
        "#     [\n",
        "#         layers.Dense(50, activation=\"relu\", input_shape=(num_features,)),\n",
        "#         layers.Dense(20, activation=\"relu\"),\n",
        "#         layers.Dense(1),\n",
        "#     ]\n",
        "# )\n",
        "#\n",
        "# model.compile(optimizer=\"adam\", loss=\"mse\")\n",
        "#\n",
        "# model.fit(X_train, y_train, epochs=10, batch_size=1000)\n",
        "#\n",
        "# print()\n",
        "# model.evaluate(X_test, y_test)"
      ],
      "id": "9e60937b",
      "execution_count": null,
      "outputs": []
    },
    {
      "cell_type": "code",
      "metadata": {},
      "source": [
        "# y_pred = model.predict(X_test)\n",
        "# results = pd.DataFrame({\"y_pred\": y_pred[:, 0], \"y_test\": y_test})\n",
        "# results.iloc[-60:].plot.bar()"
      ],
      "id": "38c3bb97",
      "execution_count": null,
      "outputs": []
    },
    {
      "cell_type": "markdown",
      "metadata": {},
      "source": [
        "## Normalizing"
      ],
      "id": "59d1019b"
    },
    {
      "cell_type": "code",
      "metadata": {},
      "source": [
        "train[\"sales_norm\"] = train.groupby([\"store_nbr\", \"family\"]).sales.transform(\n",
        "    lambda x: x / x.dropna().mean()\n",
        ")"
      ],
      "id": "42bcaaf5",
      "execution_count": null,
      "outputs": []
    },
    {
      "cell_type": "code",
      "metadata": {},
      "source": [
        "fig = px.scatter(train, x=\"onpromotion\", y=\"sales_norm\", color=\"family\")\n",
        "fig.show()"
      ],
      "id": "4aef8782",
      "execution_count": null,
      "outputs": []
    }
  ],
  "metadata": {
    "kernelspec": {
      "name": "python3",
      "language": "python",
      "display_name": "Python 3 (ipykernel)"
    }
  },
  "nbformat": 4,
  "nbformat_minor": 5
}