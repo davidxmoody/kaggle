{
 "cells": [
  {
   "cell_type": "code",
   "execution_count": 1,
   "id": "e3bd16bb-caeb-47a5-9431-4a259f463c5f",
   "metadata": {},
   "outputs": [],
   "source": [
    "from datetime import timedelta\n",
    "import pandas as pd\n",
    "from keras import layers, models\n",
    "import seaborn as sns\n",
    "import matplotlib.pyplot as plt"
   ]
  },
  {
   "cell_type": "code",
   "execution_count": 3,
   "id": "41c064b2-df73-4742-805a-4f8e53458101",
   "metadata": {},
   "outputs": [],
   "source": [
    "data_dir = \"data\"\n",
    "\n",
    "holidays = pd.read_csv(data_dir + \"/holidays_events.csv\", parse_dates=[\"date\"])\n",
    "\n",
    "oil = pd.read_csv(data_dir + \"/oil.csv\", index_col=\"date\", parse_dates=[\"date\"])\n",
    "\n",
    "stores = pd.read_csv(data_dir + \"/stores.csv\", index_col=\"store_nbr\")\n",
    "\n",
    "test = pd.read_csv(data_dir + \"/test.csv\", index_col=\"id\", parse_dates=[\"date\"])\n",
    "\n",
    "train = pd.read_csv(data_dir + \"/train.csv\", index_col=\"id\", parse_dates=[\"date\"])\n",
    "\n",
    "transactions = pd.read_csv(\n",
    "    data_dir + \"/transactions.csv\",\n",
    "    index_col=[\"date\", \"store_nbr\"],\n",
    "    parse_dates=[\"date\"],\n",
    ")"
   ]
  },
  {
   "cell_type": "code",
   "execution_count": 6,
   "id": "10e1ba0e-c434-4c2d-a372-f5995680476e",
   "metadata": {
    "collapsed": true,
    "jupyter": {
     "outputs_hidden": true,
     "source_hidden": true
    },
    "scrolled": true
   },
   "outputs": [
    {
     "data": {
      "text/html": [
       "<div>\n",
       "<style scoped>\n",
       "    .dataframe tbody tr th:only-of-type {\n",
       "        vertical-align: middle;\n",
       "    }\n",
       "\n",
       "    .dataframe tbody tr th {\n",
       "        vertical-align: top;\n",
       "    }\n",
       "\n",
       "    .dataframe thead th {\n",
       "        text-align: right;\n",
       "    }\n",
       "</style>\n",
       "<table border=\"1\" class=\"dataframe\">\n",
       "  <thead>\n",
       "    <tr style=\"text-align: right;\">\n",
       "      <th></th>\n",
       "      <th>oil</th>\n",
       "    </tr>\n",
       "  </thead>\n",
       "  <tbody>\n",
       "    <tr>\n",
       "      <th>2013-01-01</th>\n",
       "      <td>93.140000</td>\n",
       "    </tr>\n",
       "    <tr>\n",
       "      <th>2013-01-02</th>\n",
       "      <td>93.140000</td>\n",
       "    </tr>\n",
       "    <tr>\n",
       "      <th>2013-01-03</th>\n",
       "      <td>92.970000</td>\n",
       "    </tr>\n",
       "    <tr>\n",
       "      <th>2013-01-04</th>\n",
       "      <td>93.120000</td>\n",
       "    </tr>\n",
       "    <tr>\n",
       "      <th>2013-01-05</th>\n",
       "      <td>93.146667</td>\n",
       "    </tr>\n",
       "    <tr>\n",
       "      <th>...</th>\n",
       "      <td>...</td>\n",
       "    </tr>\n",
       "    <tr>\n",
       "      <th>2017-08-11</th>\n",
       "      <td>48.810000</td>\n",
       "    </tr>\n",
       "    <tr>\n",
       "      <th>2017-08-12</th>\n",
       "      <td>48.403333</td>\n",
       "    </tr>\n",
       "    <tr>\n",
       "      <th>2017-08-13</th>\n",
       "      <td>47.996667</td>\n",
       "    </tr>\n",
       "    <tr>\n",
       "      <th>2017-08-14</th>\n",
       "      <td>47.590000</td>\n",
       "    </tr>\n",
       "    <tr>\n",
       "      <th>2017-08-15</th>\n",
       "      <td>47.570000</td>\n",
       "    </tr>\n",
       "  </tbody>\n",
       "</table>\n",
       "<p>1688 rows × 1 columns</p>\n",
       "</div>"
      ],
      "text/plain": [
       "                  oil\n",
       "2013-01-01  93.140000\n",
       "2013-01-02  93.140000\n",
       "2013-01-03  92.970000\n",
       "2013-01-04  93.120000\n",
       "2013-01-05  93.146667\n",
       "...               ...\n",
       "2017-08-11  48.810000\n",
       "2017-08-12  48.403333\n",
       "2017-08-13  47.996667\n",
       "2017-08-14  47.590000\n",
       "2017-08-15  47.570000\n",
       "\n",
       "[1688 rows x 1 columns]"
      ]
     },
     "execution_count": 6,
     "metadata": {},
     "output_type": "execute_result"
    }
   ],
   "source": [
    "oil = oil.rename(columns={\"dcoilwtico\": \"oil\"})\n",
    "oil = oil.reindex(pd.date_range(train.date.min(), train.date.max()))\n",
    "oil = oil.interpolate(method=\"linear\", limit_direction=\"both\")\n",
    "oil"
   ]
  },
  {
   "cell_type": "code",
   "execution_count": 7,
   "id": "eec65a36-a888-4638-8c4a-d81f22484c17",
   "metadata": {},
   "outputs": [],
   "source": [
    "holiday_dates = holidays.loc[\n",
    "    (holidays.transferred == False) & (holidays.locale == \"National\")\n",
    "].date"
   ]
  },
  {
   "cell_type": "code",
   "execution_count": 8,
   "id": "3660b715-3cad-4b44-87da-194349cadc23",
   "metadata": {},
   "outputs": [],
   "source": [
    "train[\"days_since_start\"] = (train.date - train.date[0]).dt.days\n",
    "# train[\"year\"] = train.date.dt.year\n",
    "train[\"month\"] = train.date.dt.month\n",
    "# train[\"day\"] = train.date.dt.day\n",
    "train[\"dayofweek\"] = train.date.dt.dayofweek\n",
    "train = train.merge(oil, left_on=\"date\", right_index=True, how=\"left\")\n",
    "train = train.merge(\n",
    "    stores.add_prefix(\"store_\"), left_on=\"store_nbr\", right_index=True, how=\"left\"\n",
    ")\n",
    "train[\"holiday\"] = train.date.isin(holiday_dates.values)\n",
    "\n",
    "train[\"mean_sales\"] = train.groupby([\"store_nbr\", \"family\"]).sales.transform(\"mean\")\n",
    "\n",
    "train[\"recent_sales\"] = train.groupby([\"store_nbr\", \"family\"]).sales.transform(\n",
    "    lambda x: x.rolling(window=30).mean().shift(15)\n",
    ")"
   ]
  },
  {
   "cell_type": "code",
   "execution_count": 9,
   "id": "e2b798fa-cb32-4170-a286-90bcd75932c7",
   "metadata": {},
   "outputs": [],
   "source": [
    "train_subset = train.dropna()\n",
    "\n",
    "train_dummies = pd.get_dummies(\n",
    "    train_subset,\n",
    "    columns=[\n",
    "        \"family\",\n",
    "        \"dayofweek\",\n",
    "        # \"month\",\n",
    "        # \"store_cluster\",\n",
    "        # \"store_type\",\n",
    "    ],\n",
    ").drop(\n",
    "    columns=[\n",
    "        # \"family\",\n",
    "        \"month\",\n",
    "        \"date\",\n",
    "        \"store_nbr\",\n",
    "        \"store_city\",\n",
    "        \"store_state\",\n",
    "        \"store_cluster\",\n",
    "        \"store_type\",\n",
    "    ]\n",
    ")"
   ]
  },
  {
   "cell_type": "code",
   "execution_count": 10,
   "id": "6f5ff113-c657-43f6-ad85-a0a001f9b272",
   "metadata": {},
   "outputs": [],
   "source": [
    "test_selector = train_subset.date >= (train_subset.date.iloc[-1] - timedelta(days=15))\n",
    "\n",
    "tmp_train = train_dummies.loc[~test_selector]\n",
    "tmp_test = train_dummies.loc[test_selector]\n",
    "\n",
    "y_train = tmp_train.sales\n",
    "y_test = tmp_test.sales\n",
    "\n",
    "X_train = tmp_train.drop(columns=[\"sales\"]).astype(float)\n",
    "X_test = tmp_test.drop(columns=[\"sales\"]).astype(float)"
   ]
  },
  {
   "cell_type": "code",
   "execution_count": 11,
   "id": "8bc511a4-b447-46c3-a2ee-47e20002696b",
   "metadata": {},
   "outputs": [
    {
     "name": "stdout",
     "output_type": "stream",
     "text": [
      "Epoch 1/10\n",
      "2894/2894 [==============================] - 2s 692us/step - loss: 196415.5312\n",
      "Epoch 2/10\n",
      "2894/2894 [==============================] - 2s 693us/step - loss: 177447.9219\n",
      "Epoch 3/10\n",
      "2894/2894 [==============================] - 2s 696us/step - loss: 171622.3125\n",
      "Epoch 4/10\n",
      "2894/2894 [==============================] - 2s 697us/step - loss: 164673.8906\n",
      "Epoch 5/10\n",
      "2894/2894 [==============================] - 2s 705us/step - loss: 156841.5938\n",
      "Epoch 6/10\n",
      "2894/2894 [==============================] - 2s 705us/step - loss: 150761.5469\n",
      "Epoch 7/10\n",
      "2894/2894 [==============================] - 2s 696us/step - loss: 144526.8438\n",
      "Epoch 8/10\n",
      "2894/2894 [==============================] - 2s 742us/step - loss: 139322.7656\n",
      "Epoch 9/10\n",
      "2894/2894 [==============================] - 2s 690us/step - loss: 137043.9531\n",
      "Epoch 10/10\n",
      "2894/2894 [==============================] - 2s 680us/step - loss: 134805.7188\n",
      "\n",
      "891/891 [==============================] - 0s 255us/step - loss: 88922.7734\n"
     ]
    },
    {
     "data": {
      "text/plain": [
       "88922.7734375"
      ]
     },
     "execution_count": 11,
     "metadata": {},
     "output_type": "execute_result"
    }
   ],
   "source": [
    "num_features = len(X_train.columns)\n",
    "\n",
    "model = models.Sequential(\n",
    "    [\n",
    "        layers.Dense(50, activation=\"relu\", input_shape=(num_features,)),\n",
    "        layers.Dense(20, activation=\"relu\"),\n",
    "        layers.Dense(1),\n",
    "    ]\n",
    ")\n",
    "\n",
    "model.compile(optimizer=\"adam\", loss=\"mse\")\n",
    "\n",
    "model.fit(X_train, y_train, epochs=10, batch_size=1000)\n",
    "\n",
    "print()\n",
    "model.evaluate(X_test, y_test)"
   ]
  },
  {
   "cell_type": "code",
   "execution_count": 12,
   "id": "42ea1e3c-9a32-4f73-99a0-6f5401992049",
   "metadata": {},
   "outputs": [
    {
     "name": "stdout",
     "output_type": "stream",
     "text": [
      "891/891 [==============================] - 0s 247us/step\n"
     ]
    },
    {
     "data": {
      "text/plain": [
       "<Axes: xlabel='id'>"
      ]
     },
     "execution_count": 12,
     "metadata": {},
     "output_type": "execute_result"
    },
    {
     "data": {
      "image/png": "[encoded data removed]",
      "text/plain": [
       "<Figure size 640x480 with 1 Axes>"
      ]
     },
     "metadata": {},
     "output_type": "display_data"
    }
   ],
   "source": [
    "y_pred = model.predict(X_test)\n",
    "results = pd.DataFrame({\"y_pred\": y_pred[:, 0], \"y_test\": y_test})\n",
    "results.iloc[-60:].plot.bar()"
   ]
  },
  {
   "cell_type": "code",
   "execution_count": null,
   "id": "4a9028e3-a578-4731-8cd0-179e4414c2b6",
   "metadata": {},
   "outputs": [],
   "source": []
  }
 ],
 "metadata": {
  "kernelspec": {
   "display_name": "Python 3 (ipykernel)",
   "language": "python",
   "name": "python3"
  },
  "language_info": {
   "codemirror_mode": {
    "name": "ipython",
    "version": 3
   },
   "file_extension": ".py",
   "mimetype": "text/x-python",
   "name": "python",
   "nbconvert_exporter": "python",
   "pygments_lexer": "ipython3",
   "version": "3.11.7"
  }
 },
 "nbformat": 4,
 "nbformat_minor": 5
}
